{
 "cells": [
  {
   "cell_type": "code",
   "execution_count": 1,
   "metadata": {},
   "outputs": [],
   "source": [
    "# Adjust variables below\n",
    "\n",
    "# Variable N-Kosten pro kg\n",
    "n_price = 0.96\n",
    "# Variable Roggenpreis 20 pro dt\n",
    "rye_price = 16\n",
    "# Variable Fenster\n",
    "window_size = 50\n",
    "# Letzes kg N soll X Euro Gewinn erzielen (Grenzgewinn = 0)\n",
    "last_kg_n_profit = 0\n",
    "# Menge N in kg pro ha der einzelnen Düngestufen\n",
    "n_amounts = [ 0, 77, 110, 143, 170 ]\n",
    "# Ertrag dt pro ha\n",
    "x_yield = [ 32.9, 57.2, 58.1, 60.6, 59.3 ]\n",
    "# dE Werte\n"
   ]
  },
  {
   "cell_type": "code",
   "execution_count": 115,
   "metadata": {},
   "outputs": [
    {
     "data": {
      "application/vnd.jupyter.widget-view+json": {
       "model_id": "366496959e3f4152838b9fe4533ec893",
       "version_major": 2,
       "version_minor": 0
      },
      "text/plain": [
       "Sheet(cells=(Cell(column_end=0, column_start=0, row_end=0, row_start=0, type='text', value='N1'), Cell(column_…"
      ]
     },
     "metadata": {},
     "output_type": "display_data"
    }
   ],
   "source": [
    "from ipysheet import sheet, cell, row, column, cell_range\n",
    "n_table = sheet(rows=5, columns=5, column_headers=(\"Stufe\", \"N[kg/ha]\", \"Ertrag[dt/ha]\", \"dE\", \"dDB\"))\n",
    "\n",
    "price_relation = rye_price / n_price\n",
    "\n",
    "row_count = len(n_amounts)\n",
    "\n",
    "dE_values = []\n",
    "dDB_values = []\n",
    "\n",
    "for i in range(row_count):\n",
    "  # put N1..N5\n",
    "  cell(i, 0, \"N\" + str(i + 1))\n",
    "  # add amount N to table\n",
    "  cell(i, 1, n_amounts[i])\n",
    "  # add yield to table\n",
    "  cell(i, 2, x_yield[i])\n",
    "  # calculate dE\n",
    "  # (D3-D2)/(C3-C2)\n",
    "  if i < row_count - 1:\n",
    "      dE = (x_yield[i + 1] - x_yield[i])/(n_amounts[i + 1] - n_amounts[i])\n",
    "      dE_values.append(dE)\n",
    "      cell(i, 3, dE)\n",
    "      # calculate dDB\n",
    "      dDB = dE * rye_price - n_price\n",
    "      dDB_values.append(dDB)\n",
    "      cell(i, 4, dDB)\n",
    "\n",
    "\n",
    "n_table\n"
   ]
  },
  {
   "cell_type": "code",
   "execution_count": 108,
   "metadata": {},
   "outputs": [],
   "source": [
    "N0= []\n",
    "dE= []\n",
    "dDB= []\n",
    "ENi= []\n",
    "E_= []\n",
    "for i in range(len(n_amounts) - 1):\n",
    "    for j in range(n_amounts[i], n_amounts[i+1]):\n",
    "        N0.append(j)\n",
    "        dE.append(dE_values[i])\n",
    "        dDB.append(dDB_values[i])\n",
    "        ENi.append(n_amounts[i])\n",
    "        E_.append(x_yield[i] + dE_values[i] * (j - n_amounts[i]))\n",
    "\n",
    "# Ggf. noch den letzten n_amounts-Wert hinzufuegen\n"
   ]
  },
  {
   "cell_type": "code",
   "execution_count": 109,
   "metadata": {},
   "outputs": [],
   "source": [
    "window_size2= int(window_size/2)\n",
    "\n",
    "MWDB= dDB.copy()\n",
    "E__= E_.copy()\n",
    "for i in range(window_size2, n_amounts[len(n_amounts)-1]):\n",
    "    _= dDB[i-window_size2:i+window_size2]\n",
    "    MWDB[i]= sum(_)/len(_)\n",
    "    _= E_[i-window_size2:i+window_size2]\n",
    "    E__[i]= sum(_)/len(_)\n",
    "#    print(i, MWDB[i], E__[i])\n"
   ]
  },
  {
   "cell_type": "code",
   "execution_count": 110,
   "metadata": {},
   "outputs": [
    {
     "data": {
      "text/plain": [
       "102"
      ]
     },
     "execution_count": 110,
     "metadata": {},
     "output_type": "execute_result"
    }
   ],
   "source": [
    "def find_first_under_last_profit():\n",
    "    for i in N0:\n",
    "        if MWDB[i] < last_kg_n_profit:\n",
    "            return i\n",
    "\n",
    "find_first_under_last_profit()"
   ]
  },
  {
   "cell_type": "code",
   "execution_count": 111,
   "metadata": {},
   "outputs": [],
   "source": [
    "DB_= []\n",
    "for i in N0:\n",
    "    DB_.append(E__[i]*rye_price - i*n_price)\n"
   ]
  },
  {
   "cell_type": "code",
   "execution_count": 112,
   "metadata": {},
   "outputs": [
    {
     "data": {
      "text/html": [
       "<div>\n",
       "<style scoped>\n",
       "    .dataframe tbody tr th:only-of-type {\n",
       "        vertical-align: middle;\n",
       "    }\n",
       "\n",
       "    .dataframe tbody tr th {\n",
       "        vertical-align: top;\n",
       "    }\n",
       "\n",
       "    .dataframe thead th {\n",
       "        text-align: right;\n",
       "    }\n",
       "</style>\n",
       "<table border=\"1\" class=\"dataframe\">\n",
       "  <thead>\n",
       "    <tr style=\"text-align: right;\">\n",
       "      <th></th>\n",
       "      <th>N0</th>\n",
       "      <th>dE</th>\n",
       "      <th>E(Ni)</th>\n",
       "      <th>E_</th>\n",
       "      <th>dDB</th>\n",
       "      <th>MW DB(Intervall)</th>\n",
       "      <th>E__</th>\n",
       "      <th>DB_</th>\n",
       "    </tr>\n",
       "  </thead>\n",
       "  <tbody>\n",
       "    <tr>\n",
       "      <th>0</th>\n",
       "      <td>0</td>\n",
       "      <td>0.315584</td>\n",
       "      <td>0</td>\n",
       "      <td>32.900000</td>\n",
       "      <td>5.351688</td>\n",
       "      <td>5.351688</td>\n",
       "      <td>32.900000</td>\n",
       "      <td>658.000000</td>\n",
       "    </tr>\n",
       "    <tr>\n",
       "      <th>1</th>\n",
       "      <td>1</td>\n",
       "      <td>0.315584</td>\n",
       "      <td>0</td>\n",
       "      <td>33.215584</td>\n",
       "      <td>5.351688</td>\n",
       "      <td>5.351688</td>\n",
       "      <td>33.215584</td>\n",
       "      <td>663.351688</td>\n",
       "    </tr>\n",
       "    <tr>\n",
       "      <th>2</th>\n",
       "      <td>2</td>\n",
       "      <td>0.315584</td>\n",
       "      <td>0</td>\n",
       "      <td>33.531169</td>\n",
       "      <td>5.351688</td>\n",
       "      <td>5.351688</td>\n",
       "      <td>33.531169</td>\n",
       "      <td>668.703377</td>\n",
       "    </tr>\n",
       "    <tr>\n",
       "      <th>3</th>\n",
       "      <td>3</td>\n",
       "      <td>0.315584</td>\n",
       "      <td>0</td>\n",
       "      <td>33.846753</td>\n",
       "      <td>5.351688</td>\n",
       "      <td>5.351688</td>\n",
       "      <td>33.846753</td>\n",
       "      <td>674.055065</td>\n",
       "    </tr>\n",
       "    <tr>\n",
       "      <th>4</th>\n",
       "      <td>4</td>\n",
       "      <td>0.315584</td>\n",
       "      <td>0</td>\n",
       "      <td>34.162338</td>\n",
       "      <td>5.351688</td>\n",
       "      <td>5.351688</td>\n",
       "      <td>34.162338</td>\n",
       "      <td>679.406753</td>\n",
       "    </tr>\n",
       "    <tr>\n",
       "      <th>...</th>\n",
       "      <td>...</td>\n",
       "      <td>...</td>\n",
       "      <td>...</td>\n",
       "      <td>...</td>\n",
       "      <td>...</td>\n",
       "      <td>...</td>\n",
       "      <td>...</td>\n",
       "      <td>...</td>\n",
       "    </tr>\n",
       "    <tr>\n",
       "      <th>165</th>\n",
       "      <td>165</td>\n",
       "      <td>-0.048148</td>\n",
       "      <td>143</td>\n",
       "      <td>59.540741</td>\n",
       "      <td>-1.922963</td>\n",
       "      <td>-1.675152</td>\n",
       "      <td>60.021515</td>\n",
       "      <td>1042.030303</td>\n",
       "    </tr>\n",
       "    <tr>\n",
       "      <th>166</th>\n",
       "      <td>166</td>\n",
       "      <td>-0.048148</td>\n",
       "      <td>143</td>\n",
       "      <td>59.492593</td>\n",
       "      <td>-1.922963</td>\n",
       "      <td>-1.752059</td>\n",
       "      <td>60.009404</td>\n",
       "      <td>1040.828088</td>\n",
       "    </tr>\n",
       "    <tr>\n",
       "      <th>167</th>\n",
       "      <td>167</td>\n",
       "      <td>-0.048148</td>\n",
       "      <td>143</td>\n",
       "      <td>59.444444</td>\n",
       "      <td>-1.922963</td>\n",
       "      <td>-1.834459</td>\n",
       "      <td>59.993723</td>\n",
       "      <td>1039.554459</td>\n",
       "    </tr>\n",
       "    <tr>\n",
       "      <th>168</th>\n",
       "      <td>168</td>\n",
       "      <td>-0.048148</td>\n",
       "      <td>143</td>\n",
       "      <td>59.396296</td>\n",
       "      <td>-1.922963</td>\n",
       "      <td>-1.922963</td>\n",
       "      <td>59.974074</td>\n",
       "      <td>1038.201481</td>\n",
       "    </tr>\n",
       "    <tr>\n",
       "      <th>169</th>\n",
       "      <td>169</td>\n",
       "      <td>-0.048148</td>\n",
       "      <td>143</td>\n",
       "      <td>59.348148</td>\n",
       "      <td>-1.922963</td>\n",
       "      <td>-1.922963</td>\n",
       "      <td>59.950000</td>\n",
       "      <td>1036.760000</td>\n",
       "    </tr>\n",
       "  </tbody>\n",
       "</table>\n",
       "<p>170 rows × 8 columns</p>\n",
       "</div>"
      ],
      "text/plain": [
       "      N0        dE  E(Ni)         E_       dDB  MW DB(Intervall)        E__  \\\n",
       "0      0  0.315584      0  32.900000  5.351688          5.351688  32.900000   \n",
       "1      1  0.315584      0  33.215584  5.351688          5.351688  33.215584   \n",
       "2      2  0.315584      0  33.531169  5.351688          5.351688  33.531169   \n",
       "3      3  0.315584      0  33.846753  5.351688          5.351688  33.846753   \n",
       "4      4  0.315584      0  34.162338  5.351688          5.351688  34.162338   \n",
       "..   ...       ...    ...        ...       ...               ...        ...   \n",
       "165  165 -0.048148    143  59.540741 -1.922963         -1.675152  60.021515   \n",
       "166  166 -0.048148    143  59.492593 -1.922963         -1.752059  60.009404   \n",
       "167  167 -0.048148    143  59.444444 -1.922963         -1.834459  59.993723   \n",
       "168  168 -0.048148    143  59.396296 -1.922963         -1.922963  59.974074   \n",
       "169  169 -0.048148    143  59.348148 -1.922963         -1.922963  59.950000   \n",
       "\n",
       "             DB_  \n",
       "0     658.000000  \n",
       "1     663.351688  \n",
       "2     668.703377  \n",
       "3     674.055065  \n",
       "4     679.406753  \n",
       "..           ...  \n",
       "165  1042.030303  \n",
       "166  1040.828088  \n",
       "167  1039.554459  \n",
       "168  1038.201481  \n",
       "169  1036.760000  \n",
       "\n",
       "[170 rows x 8 columns]"
      ]
     },
     "execution_count": 112,
     "metadata": {},
     "output_type": "execute_result"
    }
   ],
   "source": [
    "import pandas as pd\n",
    "\n",
    "df = pd.DataFrame({\n",
    "    'N0': N0,\n",
    "    'dE': dE,\n",
    "    'E(Ni)': ENi,\n",
    "    'E_': E_,\n",
    "    'dDB': dDB,\n",
    "    'MW DB(Intervall)': MWDB,\n",
    "    'E__': E__,\n",
    "    'DB_': DB_,\n",
    "})\n",
    "df"
   ]
  },
  {
   "cell_type": "code",
   "execution_count": 113,
   "metadata": {},
   "outputs": [
    {
     "data": {
      "text/plain": [
       "<AxesSubplot:label='516a2b41-042a-40a4-b5e1-3da6e76452a1', xlabel='N0'>"
      ]
     },
     "execution_count": 113,
     "metadata": {},
     "output_type": "execute_result"
    },
    {
     "data": {
      "image/png": "[encoded data removed]",
      "text/plain": [
       "<Figure size 432x288 with 2 Axes>"
      ]
     },
     "metadata": {
      "needs_background": "light"
     },
     "output_type": "display_data"
    }
   ],
   "source": [
    "ax = df.plot(kind = \"line\", \n",
    "        x = \"N0\", \n",
    "        y = \"MW DB(Intervall)\", \n",
    "        ylim = (0,int(max(MWDB)*1.2)),\n",
    "        color = \"red\")\n",
    "ax2= ax.twinx()\n",
    "df.plot(kind = \"line\", \n",
    "        x = \"N0\", \n",
    "        y = \"DB_\", \n",
    "        color = \"blue\",\n",
    "        ax = ax2)\n"
   ]
  },
  {
   "cell_type": "code",
   "execution_count": 114,
   "metadata": {},
   "outputs": [
    {
     "data": {
      "image/png": "[encoded data removed]",
      "text/plain": [
       "<Figure size 432x288 with 2 Axes>"
      ]
     },
     "metadata": {
      "needs_background": "light"
     },
     "output_type": "display_data"
    }
   ],
   "source": [
    "ax= df.plot(kind = \"line\", \n",
    "        x = \"N0\", \n",
    "        y = \"E__\", \n",
    "        color = \"red\")\n",
    "ax2= ax.twinx()\n",
    "ax2 = df.plot(kind = \"line\", \n",
    "        x = \"N0\", \n",
    "        y = \"E_\", \n",
    "        color = \"blue\",\n",
    "        ax = ax2)\n"
   ]
  }
 ],
 "metadata": {
  "kernelspec": {
   "display_name": "Python 3",
   "language": "python",
   "name": "python3"
  },
  "language_info": {
   "codemirror_mode": {
    "name": "ipython",
    "version": 3
   },
   "file_extension": ".py",
   "mimetype": "text/x-python",
   "name": "python",
   "nbconvert_exporter": "python",
   "pygments_lexer": "ipython3",
   "version": "3.8.6"
  }
 },
 "nbformat": 4,
 "nbformat_minor": 4
}
